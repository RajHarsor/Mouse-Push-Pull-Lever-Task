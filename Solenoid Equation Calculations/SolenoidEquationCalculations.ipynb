version https://git-lfs.github.com/spec/v1
oid sha256:ec1f43f6f83c43ae3ee502ca2b9d28b910f62df17a8bef8a897e873dc072b963
size 178370
