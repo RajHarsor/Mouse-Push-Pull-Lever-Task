{
 "cells": [
  {
   "cell_type": "code",
   "execution_count": 1,
   "metadata": {},
   "outputs": [],
   "source": [
    "import scipy.optimize as optimize\n",
    "from scipy.optimize import curve_fit\n",
    "import pandas as pd\n",
    "import numpy as np\n",
    "import matplotlib\n",
    "import matplotlib.pyplot as plt\n",
    "import seaborn as sns\n",
    "from numpy import arange\n",
    "from numpy import random"
   ]
  },
  {
   "attachments": {},
   "cell_type": "markdown",
   "metadata": {},
   "source": [
    "# The Data"
   ]
  },
  {
   "cell_type": "code",
   "execution_count": 2,
   "metadata": {},
   "outputs": [
    {
     "data": {
      "text/html": [
       "<div>\n",
       "<style scoped>\n",
       "    .dataframe tbody tr th:only-of-type {\n",
       "        vertical-align: middle;\n",
       "    }\n",
       "\n",
       "    .dataframe tbody tr th {\n",
       "        vertical-align: top;\n",
       "    }\n",
       "\n",
       "    .dataframe thead th {\n",
       "        text-align: right;\n",
       "    }\n",
       "</style>\n",
       "<table border=\"1\" class=\"dataframe\">\n",
       "  <thead>\n",
       "    <tr style=\"text-align: right;\">\n",
       "      <th></th>\n",
       "      <th>Time</th>\n",
       "      <th>ul</th>\n",
       "    </tr>\n",
       "  </thead>\n",
       "  <tbody>\n",
       "    <tr>\n",
       "      <th>0</th>\n",
       "      <td>22</td>\n",
       "      <td>3</td>\n",
       "    </tr>\n",
       "    <tr>\n",
       "      <th>1</th>\n",
       "      <td>22</td>\n",
       "      <td>2</td>\n",
       "    </tr>\n",
       "    <tr>\n",
       "      <th>2</th>\n",
       "      <td>22</td>\n",
       "      <td>3</td>\n",
       "    </tr>\n",
       "    <tr>\n",
       "      <th>3</th>\n",
       "      <td>22</td>\n",
       "      <td>2</td>\n",
       "    </tr>\n",
       "    <tr>\n",
       "      <th>4</th>\n",
       "      <td>22</td>\n",
       "      <td>1</td>\n",
       "    </tr>\n",
       "    <tr>\n",
       "      <th>5</th>\n",
       "      <td>22</td>\n",
       "      <td>1</td>\n",
       "    </tr>\n",
       "    <tr>\n",
       "      <th>6</th>\n",
       "      <td>44</td>\n",
       "      <td>5</td>\n",
       "    </tr>\n",
       "    <tr>\n",
       "      <th>7</th>\n",
       "      <td>44</td>\n",
       "      <td>5</td>\n",
       "    </tr>\n",
       "    <tr>\n",
       "      <th>8</th>\n",
       "      <td>44</td>\n",
       "      <td>4</td>\n",
       "    </tr>\n",
       "    <tr>\n",
       "      <th>9</th>\n",
       "      <td>44</td>\n",
       "      <td>4</td>\n",
       "    </tr>\n",
       "    <tr>\n",
       "      <th>10</th>\n",
       "      <td>44</td>\n",
       "      <td>4</td>\n",
       "    </tr>\n",
       "    <tr>\n",
       "      <th>11</th>\n",
       "      <td>44</td>\n",
       "      <td>4</td>\n",
       "    </tr>\n",
       "    <tr>\n",
       "      <th>12</th>\n",
       "      <td>44</td>\n",
       "      <td>4</td>\n",
       "    </tr>\n",
       "    <tr>\n",
       "      <th>13</th>\n",
       "      <td>44</td>\n",
       "      <td>5</td>\n",
       "    </tr>\n",
       "    <tr>\n",
       "      <th>14</th>\n",
       "      <td>44</td>\n",
       "      <td>3</td>\n",
       "    </tr>\n",
       "    <tr>\n",
       "      <th>15</th>\n",
       "      <td>44</td>\n",
       "      <td>5</td>\n",
       "    </tr>\n",
       "    <tr>\n",
       "      <th>16</th>\n",
       "      <td>52</td>\n",
       "      <td>7</td>\n",
       "    </tr>\n",
       "    <tr>\n",
       "      <th>17</th>\n",
       "      <td>52</td>\n",
       "      <td>6</td>\n",
       "    </tr>\n",
       "    <tr>\n",
       "      <th>18</th>\n",
       "      <td>52</td>\n",
       "      <td>6</td>\n",
       "    </tr>\n",
       "    <tr>\n",
       "      <th>19</th>\n",
       "      <td>52</td>\n",
       "      <td>6</td>\n",
       "    </tr>\n",
       "    <tr>\n",
       "      <th>20</th>\n",
       "      <td>52</td>\n",
       "      <td>6</td>\n",
       "    </tr>\n",
       "    <tr>\n",
       "      <th>21</th>\n",
       "      <td>52</td>\n",
       "      <td>7</td>\n",
       "    </tr>\n",
       "    <tr>\n",
       "      <th>22</th>\n",
       "      <td>52</td>\n",
       "      <td>7</td>\n",
       "    </tr>\n",
       "    <tr>\n",
       "      <th>23</th>\n",
       "      <td>52</td>\n",
       "      <td>5</td>\n",
       "    </tr>\n",
       "    <tr>\n",
       "      <th>24</th>\n",
       "      <td>52</td>\n",
       "      <td>5</td>\n",
       "    </tr>\n",
       "    <tr>\n",
       "      <th>25</th>\n",
       "      <td>52</td>\n",
       "      <td>6</td>\n",
       "    </tr>\n",
       "    <tr>\n",
       "      <th>26</th>\n",
       "      <td>60</td>\n",
       "      <td>8</td>\n",
       "    </tr>\n",
       "    <tr>\n",
       "      <th>27</th>\n",
       "      <td>60</td>\n",
       "      <td>8</td>\n",
       "    </tr>\n",
       "    <tr>\n",
       "      <th>28</th>\n",
       "      <td>60</td>\n",
       "      <td>9</td>\n",
       "    </tr>\n",
       "    <tr>\n",
       "      <th>29</th>\n",
       "      <td>60</td>\n",
       "      <td>10</td>\n",
       "    </tr>\n",
       "    <tr>\n",
       "      <th>30</th>\n",
       "      <td>60</td>\n",
       "      <td>9</td>\n",
       "    </tr>\n",
       "    <tr>\n",
       "      <th>31</th>\n",
       "      <td>60</td>\n",
       "      <td>11</td>\n",
       "    </tr>\n",
       "    <tr>\n",
       "      <th>32</th>\n",
       "      <td>60</td>\n",
       "      <td>10</td>\n",
       "    </tr>\n",
       "    <tr>\n",
       "      <th>33</th>\n",
       "      <td>60</td>\n",
       "      <td>9</td>\n",
       "    </tr>\n",
       "    <tr>\n",
       "      <th>34</th>\n",
       "      <td>60</td>\n",
       "      <td>8</td>\n",
       "    </tr>\n",
       "    <tr>\n",
       "      <th>35</th>\n",
       "      <td>60</td>\n",
       "      <td>9</td>\n",
       "    </tr>\n",
       "  </tbody>\n",
       "</table>\n",
       "</div>"
      ],
      "text/plain": [
       "    Time  ul\n",
       "0     22   3\n",
       "1     22   2\n",
       "2     22   3\n",
       "3     22   2\n",
       "4     22   1\n",
       "5     22   1\n",
       "6     44   5\n",
       "7     44   5\n",
       "8     44   4\n",
       "9     44   4\n",
       "10    44   4\n",
       "11    44   4\n",
       "12    44   4\n",
       "13    44   5\n",
       "14    44   3\n",
       "15    44   5\n",
       "16    52   7\n",
       "17    52   6\n",
       "18    52   6\n",
       "19    52   6\n",
       "20    52   6\n",
       "21    52   7\n",
       "22    52   7\n",
       "23    52   5\n",
       "24    52   5\n",
       "25    52   6\n",
       "26    60   8\n",
       "27    60   8\n",
       "28    60   9\n",
       "29    60  10\n",
       "30    60   9\n",
       "31    60  11\n",
       "32    60  10\n",
       "33    60   9\n",
       "34    60   8\n",
       "35    60   9"
      ]
     },
     "execution_count": 2,
     "metadata": {},
     "output_type": "execute_result"
    }
   ],
   "source": [
    "# Raw Dataframe\n",
    "df = pd.DataFrame(\n",
    "    {'Time' : [22, 22, 22, 22, 22, 22, 44, 44, 44, 44, 44, 44, 44, 44, 44, 44, 52, 52, 52, 52, 52, 52, 52, 52, 52, 52, 60, 60, 60, 60, 60, 60, 60, 60, 60, 60],\n",
    "     'ul' : [3, 2, 3, 2, 1, 1, 5, 5, 4, 4, 4, 4, 4, 5, 3, 5, 7, 6, 6, 6, 6, 7, 7, 5, 5, 6, 8, 8, 9, 10, 9, 11, 10, 9, 8, 9]}\n",
    ")\n",
    "df"
   ]
  },
  {
   "attachments": {},
   "cell_type": "markdown",
   "metadata": {},
   "source": [
    "## Mean of data points grouped by Time amounts\n",
    "\n",
    "Please not that some of the data points have more values than others to determien the mean amount of water that is dispensed"
   ]
  },
  {
   "cell_type": "code",
   "execution_count": 3,
   "metadata": {},
   "outputs": [
    {
     "data": {
      "text/html": [
       "<div>\n",
       "<style scoped>\n",
       "    .dataframe tbody tr th:only-of-type {\n",
       "        vertical-align: middle;\n",
       "    }\n",
       "\n",
       "    .dataframe tbody tr th {\n",
       "        vertical-align: top;\n",
       "    }\n",
       "\n",
       "    .dataframe thead th {\n",
       "        text-align: right;\n",
       "    }\n",
       "</style>\n",
       "<table border=\"1\" class=\"dataframe\">\n",
       "  <thead>\n",
       "    <tr style=\"text-align: right;\">\n",
       "      <th></th>\n",
       "      <th>Time</th>\n",
       "      <th>ul</th>\n",
       "    </tr>\n",
       "  </thead>\n",
       "  <tbody>\n",
       "    <tr>\n",
       "      <th>0</th>\n",
       "      <td>22</td>\n",
       "      <td>2.0</td>\n",
       "    </tr>\n",
       "    <tr>\n",
       "      <th>1</th>\n",
       "      <td>44</td>\n",
       "      <td>4.3</td>\n",
       "    </tr>\n",
       "    <tr>\n",
       "      <th>2</th>\n",
       "      <td>52</td>\n",
       "      <td>6.1</td>\n",
       "    </tr>\n",
       "    <tr>\n",
       "      <th>3</th>\n",
       "      <td>60</td>\n",
       "      <td>9.1</td>\n",
       "    </tr>\n",
       "  </tbody>\n",
       "</table>\n",
       "</div>"
      ],
      "text/plain": [
       "   Time   ul\n",
       "0    22  2.0\n",
       "1    44  4.3\n",
       "2    52  6.1\n",
       "3    60  9.1"
      ]
     },
     "execution_count": 3,
     "metadata": {},
     "output_type": "execute_result"
    }
   ],
   "source": [
    "# Getting mean values for datapoints\n",
    "df_calc = df.groupby('Time').mean().reset_index()\n",
    "df_calc = df_calc.sort_values('ul', ascending=True)\n",
    "df_calc"
   ]
  },
  {
   "attachments": {},
   "cell_type": "markdown",
   "metadata": {},
   "source": [
    "# Equations"
   ]
  },
  {
   "attachments": {},
   "cell_type": "markdown",
   "metadata": {},
   "source": [
    "## ul vs Time"
   ]
  },
  {
   "cell_type": "code",
   "execution_count": 4,
   "metadata": {},
   "outputs": [
    {
     "name": "stdout",
     "output_type": "stream",
     "text": [
      "y = 13.55051 * x + -0.74653 * x^2 + -1.73702\n"
     ]
    }
   ],
   "source": [
    "#Set x as ul and y as Time\n",
    "x, y = df_calc['ul'], df_calc['Time']\n",
    "\n",
    "#This equation is used to determine the relationship of how ul is related to time (x = ul, y = time)\n",
    "\n",
    "def objective(x, a, b, c):\n",
    " return a * x + b * x**2 + c\n",
    "popt, _ = curve_fit(objective, x, y)\n",
    "a, b, c = popt\n",
    "print('y = %.5f * x + %.5f * x^2 + %.5f' % (a, b, c))"
   ]
  },
  {
   "cell_type": "code",
   "execution_count": 5,
   "metadata": {},
   "outputs": [
    {
     "data": {
      "text/plain": [
       "58.88913999999999"
      ]
     },
     "execution_count": 5,
     "metadata": {},
     "output_type": "execute_result"
    }
   ],
   "source": [
    "## Using this equation, we can determine how many ms it would take for 8 ul of water to come out of the solenoid\n",
    "\n",
    "def waterfunction(x):\n",
    "    y = 13.55051 * x + -0.74653 * x ** 2 + -1.73702\n",
    "    return(y)\n",
    "\n",
    "waterfunction(8)"
   ]
  },
  {
   "cell_type": "code",
   "execution_count": 6,
   "metadata": {},
   "outputs": [
    {
     "data": {
      "text/html": [
       "<div>\n",
       "<style scoped>\n",
       "    .dataframe tbody tr th:only-of-type {\n",
       "        vertical-align: middle;\n",
       "    }\n",
       "\n",
       "    .dataframe tbody tr th {\n",
       "        vertical-align: top;\n",
       "    }\n",
       "\n",
       "    .dataframe thead th {\n",
       "        text-align: right;\n",
       "    }\n",
       "</style>\n",
       "<table border=\"1\" class=\"dataframe\">\n",
       "  <thead>\n",
       "    <tr style=\"text-align: right;\">\n",
       "      <th></th>\n",
       "      <th>Time</th>\n",
       "      <th>ul</th>\n",
       "    </tr>\n",
       "  </thead>\n",
       "  <tbody>\n",
       "    <tr>\n",
       "      <th>0</th>\n",
       "      <td>22.00000</td>\n",
       "      <td>2.0</td>\n",
       "    </tr>\n",
       "    <tr>\n",
       "      <th>1</th>\n",
       "      <td>44.00000</td>\n",
       "      <td>4.3</td>\n",
       "    </tr>\n",
       "    <tr>\n",
       "      <th>2</th>\n",
       "      <td>52.00000</td>\n",
       "      <td>6.1</td>\n",
       "    </tr>\n",
       "    <tr>\n",
       "      <th>3</th>\n",
       "      <td>58.88914</td>\n",
       "      <td>8.0</td>\n",
       "    </tr>\n",
       "  </tbody>\n",
       "</table>\n",
       "</div>"
      ],
      "text/plain": [
       "       Time   ul\n",
       "0  22.00000  2.0\n",
       "1  44.00000  4.3\n",
       "2  52.00000  6.1\n",
       "3  58.88914  8.0"
      ]
     },
     "execution_count": 6,
     "metadata": {},
     "output_type": "execute_result"
    }
   ],
   "source": [
    "# In the mean dataframe (df_calc), we can replace the last row with 9 ul with 8 ul which is determined by the equation above\n",
    "\n",
    "df_calc.loc[3, 'Time'] = waterfunction(8)\n",
    "df_calc.loc[3, 'ul'] = 8\n",
    "df_calc"
   ]
  },
  {
   "cell_type": "code",
   "execution_count": 7,
   "metadata": {},
   "outputs": [
    {
     "name": "stdout",
     "output_type": "stream",
     "text": [
      "y = 13.94674 * x + -0.79141 * x^2 + -2.43169\n"
     ]
    }
   ],
   "source": [
    "# Using the edited dataframe with 8 ul, we can get a new equation\n",
    "\n",
    "x, y = df_calc['ul'], df_calc['Time']\n",
    "\n",
    "def objective(x, a, b, c):\n",
    " return a * x + b * x**2 + c\n",
    "popt, _ = curve_fit(objective, x, y)\n",
    "a, b, c = popt\n",
    "print('y = %.5f * x + %.5f * x^2 + %.5f' % (a, b, c))"
   ]
  },
  {
   "cell_type": "code",
   "execution_count": 8,
   "metadata": {},
   "outputs": [
    {
     "data": {
      "image/png": "[encoded data removed]",
      "text/plain": [
       "<Figure size 640x480 with 1 Axes>"
      ]
     },
     "metadata": {},
     "output_type": "display_data"
    }
   ],
   "source": [
    "#Graphing the Equation Above\n",
    "x_line = arange(min(x), max(x), 1)\n",
    "y_line = objective(x_line, a, b, c)\n",
    "\n",
    "plt.plot(x_line, y_line, '--', color='red')\n",
    "plt.scatter(x = 'ul', y = 'Time', data = df_calc)\n",
    "plt.ylabel(\"Time (ms)\")\n",
    "plt.xlabel(\"ul\")\n",
    "plt.show()"
   ]
  },
  {
   "cell_type": "code",
   "execution_count": 9,
   "metadata": {},
   "outputs": [
    {
     "name": "stdout",
     "output_type": "stream",
     "text": [
      "y = -0.15112 * x + 0.00388 * x^2 + 3.44460\n"
     ]
    }
   ],
   "source": [
    "# Now lets make the equation to convert time to ul amount\n",
    "\n",
    "x, y = df_calc['Time'], df_calc['ul']\n",
    "\n",
    "def objective(x, a, b, c):\n",
    " return a * x + b * x**2 + c\n",
    "popt, _ = curve_fit(objective, x, y)\n",
    "a, b, c = popt\n",
    "print('y = %.5f * x + %.5f * x^2 + %.5f' % (a, b, c))"
   ]
  },
  {
   "cell_type": "code",
   "execution_count": 10,
   "metadata": {},
   "outputs": [],
   "source": [
    "def Test(x):\n",
    "    y = -0.15112 * x + 0.00388 * x**2 + 3.44460\n",
    "    return(y)\n"
   ]
  },
  {
   "cell_type": "code",
   "execution_count": 11,
   "metadata": {},
   "outputs": [
    {
     "data": {
      "text/plain": [
       "56893.702518911996"
      ]
     },
     "execution_count": 11,
     "metadata": {},
     "output_type": "execute_result"
    }
   ],
   "source": [
    "Test(3848.68)"
   ]
  },
  {
   "attachments": {},
   "cell_type": "markdown",
   "metadata": {},
   "source": [
    "## DataFrame Manipulation to find open time equations"
   ]
  },
  {
   "cell_type": "code",
   "execution_count": 12,
   "metadata": {},
   "outputs": [],
   "source": [
    "# Mirroring ul values in a new column\n",
    "df_calc['ul Opposite'] = [8, 6.1, 4.3, 2]"
   ]
  },
  {
   "cell_type": "code",
   "execution_count": 13,
   "metadata": {},
   "outputs": [
    {
     "name": "stdout",
     "output_type": "stream",
     "text": [
      "y = 4.57457 * x + -1.05457 * x^2 + 53.50447\n"
     ]
    }
   ],
   "source": [
    "# Finding the equation for ul opposite(x) vs Time\n",
    "\n",
    "x1, y1 = df_calc['ul Opposite'], df_calc['Time']\n",
    "\n",
    "def objective(x, a, b, c):\n",
    " return a * x + b * x**2 + c\n",
    "popt, _ = curve_fit(objective, x1, y1)\n",
    "a, b, c = popt\n",
    "print('y = %.5f * x + %.5f * x^2 + %.5f' % (a, b, c))"
   ]
  },
  {
   "cell_type": "code",
   "execution_count": 14,
   "metadata": {},
   "outputs": [
    {
     "data": {
      "image/png": "[encoded data removed]",
      "text/plain": [
       "<Figure size 640x480 with 1 Axes>"
      ]
     },
     "metadata": {},
     "output_type": "display_data"
    }
   ],
   "source": [
    "# Graphing ul(x) vs ul (y)\n",
    "\n",
    "x1_line = arange(min(x1), max(x1), 1)\n",
    "y1_line = objective(x_line, a, b, c)\n",
    "\n",
    "plt.plot(x_line, y_line, '--', color='red')\n",
    "plt.plot(x1_line, y1_line, '--', color='red')\n",
    "plt.scatter(x = 'ul', y = 'Time', data = df_calc)\n",
    "plt.scatter(x = 'ul Opposite', y = 'Time', data = df_calc)\n",
    "plt.ylabel(\"Time (ms)\")\n",
    "plt.xlabel(\"ul\")\n",
    "plt.show()"
   ]
  },
  {
   "cell_type": "code",
   "execution_count": 15,
   "metadata": {},
   "outputs": [
    {
     "name": "stdout",
     "output_type": "stream",
     "text": [
      "[(-3.07024999129229, 3.94515074651913), (48.2768433978857, 5.19193942655176)]\n"
     ]
    }
   ],
   "source": [
    "# At what point do these two lines cross?\n",
    "\n",
    "from sympy import symbols, Eq, solve\n",
    "\n",
    "# Define the symbols and equations\n",
    "x, y = symbols('x y')\n",
    "eq1 = Eq(y, 0.26026 * x + -0.00522 * x**2 + 4.79342)\n",
    "eq2 = Eq(y, -0.15112 * x + 0.00388 * x**2 + 3.44460)\n",
    "\n",
    "# Solve the system of equations\n",
    "sol = solve((eq1, eq2), (x, y))\n",
    "\n",
    "# Print the solution\n",
    "print(sol)\n"
   ]
  },
  {
   "attachments": {},
   "cell_type": "markdown",
   "metadata": {},
   "source": [
    "The crossover point between these two equations shown above is at (5.2 ul, 48.28 ms)"
   ]
  },
  {
   "cell_type": "code",
   "execution_count": 16,
   "metadata": {},
   "outputs": [
    {
     "data": {
      "text/plain": [
       "48.539460799999986"
      ]
     },
     "execution_count": 16,
     "metadata": {},
     "output_type": "execute_result"
    }
   ],
   "source": [
    "# Confirmation test\n",
    "\n",
    "waterfunction(5.2)"
   ]
  },
  {
   "cell_type": "code",
   "execution_count": 17,
   "metadata": {},
   "outputs": [],
   "source": [
    "new_row = {'Time': 48.2768433978857, 'ul': 5.19193942655176, 'ul Opposite': None}\n",
    "\n",
    "df_calc = pd.concat([df_calc.loc[:1], pd.DataFrame([new_row]), df_calc.loc[2:]], ignore_index=True)"
   ]
  },
  {
   "cell_type": "code",
   "execution_count": 18,
   "metadata": {},
   "outputs": [
    {
     "data": {
      "text/html": [
       "<div>\n",
       "<style scoped>\n",
       "    .dataframe tbody tr th:only-of-type {\n",
       "        vertical-align: middle;\n",
       "    }\n",
       "\n",
       "    .dataframe tbody tr th {\n",
       "        vertical-align: top;\n",
       "    }\n",
       "\n",
       "    .dataframe thead th {\n",
       "        text-align: right;\n",
       "    }\n",
       "</style>\n",
       "<table border=\"1\" class=\"dataframe\">\n",
       "  <thead>\n",
       "    <tr style=\"text-align: right;\">\n",
       "      <th></th>\n",
       "      <th>Time</th>\n",
       "      <th>ul</th>\n",
       "      <th>ul Opposite</th>\n",
       "    </tr>\n",
       "  </thead>\n",
       "  <tbody>\n",
       "    <tr>\n",
       "      <th>0</th>\n",
       "      <td>22.000000</td>\n",
       "      <td>2.000000</td>\n",
       "      <td>8.0</td>\n",
       "    </tr>\n",
       "    <tr>\n",
       "      <th>1</th>\n",
       "      <td>44.000000</td>\n",
       "      <td>4.300000</td>\n",
       "      <td>6.1</td>\n",
       "    </tr>\n",
       "    <tr>\n",
       "      <th>2</th>\n",
       "      <td>48.276843</td>\n",
       "      <td>5.191939</td>\n",
       "      <td>NaN</td>\n",
       "    </tr>\n",
       "    <tr>\n",
       "      <th>3</th>\n",
       "      <td>52.000000</td>\n",
       "      <td>6.100000</td>\n",
       "      <td>4.3</td>\n",
       "    </tr>\n",
       "    <tr>\n",
       "      <th>4</th>\n",
       "      <td>58.889140</td>\n",
       "      <td>8.000000</td>\n",
       "      <td>2.0</td>\n",
       "    </tr>\n",
       "  </tbody>\n",
       "</table>\n",
       "</div>"
      ],
      "text/plain": [
       "        Time        ul  ul Opposite\n",
       "0  22.000000  2.000000          8.0\n",
       "1  44.000000  4.300000          6.1\n",
       "2  48.276843  5.191939          NaN\n",
       "3  52.000000  6.100000          4.3\n",
       "4  58.889140  8.000000          2.0"
      ]
     },
     "execution_count": 18,
     "metadata": {},
     "output_type": "execute_result"
    }
   ],
   "source": [
    "df_calc"
   ]
  },
  {
   "attachments": {},
   "cell_type": "markdown",
   "metadata": {},
   "source": [
    "## Using Ratios"
   ]
  },
  {
   "cell_type": "code",
   "execution_count": 19,
   "metadata": {},
   "outputs": [
    {
     "data": {
      "text/html": [
       "<div>\n",
       "<style scoped>\n",
       "    .dataframe tbody tr th:only-of-type {\n",
       "        vertical-align: middle;\n",
       "    }\n",
       "\n",
       "    .dataframe tbody tr th {\n",
       "        vertical-align: top;\n",
       "    }\n",
       "\n",
       "    .dataframe thead th {\n",
       "        text-align: right;\n",
       "    }\n",
       "</style>\n",
       "<table border=\"1\" class=\"dataframe\">\n",
       "  <thead>\n",
       "    <tr style=\"text-align: right;\">\n",
       "      <th></th>\n",
       "      <th>Time</th>\n",
       "      <th>ul</th>\n",
       "      <th>ul Opposite</th>\n",
       "      <th>(F-R)/(F+R)</th>\n",
       "    </tr>\n",
       "  </thead>\n",
       "  <tbody>\n",
       "    <tr>\n",
       "      <th>0</th>\n",
       "      <td>22.000000</td>\n",
       "      <td>2.000000</td>\n",
       "      <td>8.0</td>\n",
       "      <td>-1.0</td>\n",
       "    </tr>\n",
       "    <tr>\n",
       "      <th>2</th>\n",
       "      <td>48.276843</td>\n",
       "      <td>5.191939</td>\n",
       "      <td>NaN</td>\n",
       "      <td>0.0</td>\n",
       "    </tr>\n",
       "    <tr>\n",
       "      <th>4</th>\n",
       "      <td>58.889140</td>\n",
       "      <td>8.000000</td>\n",
       "      <td>2.0</td>\n",
       "      <td>1.0</td>\n",
       "    </tr>\n",
       "  </tbody>\n",
       "</table>\n",
       "</div>"
      ],
      "text/plain": [
       "        Time        ul  ul Opposite  (F-R)/(F+R)\n",
       "0  22.000000  2.000000          8.0         -1.0\n",
       "2  48.276843  5.191939          NaN          0.0\n",
       "4  58.889140  8.000000          2.0          1.0"
      ]
     },
     "execution_count": 19,
     "metadata": {},
     "output_type": "execute_result"
    }
   ],
   "source": [
    "# Add first set of ratios\n",
    "df_calc['(F-R)/(F+R)'] = [-1, None, 0, None, 1]\n",
    "\n",
    "#Drop the rows with None in the (F-R)/(F+R) column\n",
    "df_calc = df_calc.dropna(subset=['(F-R)/(F+R)'])\n",
    "\n",
    "df_calc"
   ]
  },
  {
   "cell_type": "code",
   "execution_count": 20,
   "metadata": {},
   "outputs": [
    {
     "name": "stdout",
     "output_type": "stream",
     "text": [
      "The equation is Time = -7.83 * (F-R)/(F+R)**2 + 18.44 * (F-R)/(F+R) + 48.28\n"
     ]
    }
   ],
   "source": [
    "# Determine the equation comparing the ratios to time values\n",
    "x = df_calc['(F-R)/(F+R)']\n",
    "y = df_calc['Time']\n",
    "\n",
    "p = np.polyfit(x, y, 2)\n",
    "\n",
    "print(f'The equation is Time = {p[0]:.2f} * (F-R)/(F+R)**2 + {p[1]:.2f} * (F-R)/(F+R) + {p[2]:.2f}')"
   ]
  },
  {
   "cell_type": "code",
   "execution_count": 21,
   "metadata": {},
   "outputs": [
    {
     "name": "stderr",
     "output_type": "stream",
     "text": [
      "/var/folders/_9/bcsw8t693hgcmq4vq9xkqkb40000gn/T/ipykernel_11790/43994359.py:3: SettingWithCopyWarning: \n",
      "A value is trying to be set on a copy of a slice from a DataFrame.\n",
      "Try using .loc[row_indexer,col_indexer] = value instead\n",
      "\n",
      "See the caveats in the documentation: https://pandas.pydata.org/pandas-docs/stable/user_guide/indexing.html#returning-a-view-versus-a-copy\n",
      "  df_calc['reversed_ratios'] = [1.0, 0.0, -1.0]\n"
     ]
    },
    {
     "data": {
      "text/html": [
       "<div>\n",
       "<style scoped>\n",
       "    .dataframe tbody tr th:only-of-type {\n",
       "        vertical-align: middle;\n",
       "    }\n",
       "\n",
       "    .dataframe tbody tr th {\n",
       "        vertical-align: top;\n",
       "    }\n",
       "\n",
       "    .dataframe thead th {\n",
       "        text-align: right;\n",
       "    }\n",
       "</style>\n",
       "<table border=\"1\" class=\"dataframe\">\n",
       "  <thead>\n",
       "    <tr style=\"text-align: right;\">\n",
       "      <th></th>\n",
       "      <th>Time</th>\n",
       "      <th>ul</th>\n",
       "      <th>ul Opposite</th>\n",
       "      <th>(F-R)/(F+R)</th>\n",
       "      <th>reversed_ratios</th>\n",
       "    </tr>\n",
       "  </thead>\n",
       "  <tbody>\n",
       "    <tr>\n",
       "      <th>0</th>\n",
       "      <td>22.000000</td>\n",
       "      <td>2.000000</td>\n",
       "      <td>8.0</td>\n",
       "      <td>-1.0</td>\n",
       "      <td>1.0</td>\n",
       "    </tr>\n",
       "    <tr>\n",
       "      <th>2</th>\n",
       "      <td>48.276843</td>\n",
       "      <td>5.191939</td>\n",
       "      <td>NaN</td>\n",
       "      <td>0.0</td>\n",
       "      <td>0.0</td>\n",
       "    </tr>\n",
       "    <tr>\n",
       "      <th>4</th>\n",
       "      <td>58.889140</td>\n",
       "      <td>8.000000</td>\n",
       "      <td>2.0</td>\n",
       "      <td>1.0</td>\n",
       "      <td>-1.0</td>\n",
       "    </tr>\n",
       "  </tbody>\n",
       "</table>\n",
       "</div>"
      ],
      "text/plain": [
       "        Time        ul  ul Opposite  (F-R)/(F+R)  reversed_ratios\n",
       "0  22.000000  2.000000          8.0         -1.0              1.0\n",
       "2  48.276843  5.191939          NaN          0.0              0.0\n",
       "4  58.889140  8.000000          2.0          1.0             -1.0"
      ]
     },
     "execution_count": 21,
     "metadata": {},
     "output_type": "execute_result"
    }
   ],
   "source": [
    "# Make another column in the dataframe reversing the ratio column\n",
    "\n",
    "df_calc['reversed_ratios'] = [1.0, 0.0, -1.0]\n",
    "df_calc"
   ]
  },
  {
   "cell_type": "code",
   "execution_count": 22,
   "metadata": {},
   "outputs": [
    {
     "name": "stdout",
     "output_type": "stream",
     "text": [
      "The equation is Time = -7.83 * (F-R)/(F+R)**2 + -18.44 * (F-R)/(F+R) + 48.28\n"
     ]
    }
   ],
   "source": [
    "## Make the second equation that will crossover the first \n",
    "\n",
    "x = df_calc['reversed_ratios']\n",
    "y = df_calc['Time']\n",
    "\n",
    "p = np.polyfit(x, y, 2)\n",
    "\n",
    "print(f'The equation is Time = {p[0]:.2f} * (F-R)/(F+R)**2 + {p[1]:.2f} * (F-R)/(F+R) + {p[2]:.2f}')"
   ]
  },
  {
   "cell_type": "code",
   "execution_count": 23,
   "metadata": {},
   "outputs": [
    {
     "data": {
      "image/png": "[encoded data removed]",
      "text/plain": [
       "<Figure size 1000x400 with 2 Axes>"
      ]
     },
     "metadata": {},
     "output_type": "display_data"
    }
   ],
   "source": [
    "# Graph both equations side by side\n",
    "x = df_calc['(F-R)/(F+R)']\n",
    "y = df_calc['Time']\n",
    "\n",
    "# Fit the curve to the data using numpy.polyfit\n",
    "p = np.polyfit(x, y, 2)\n",
    "\n",
    "# Define a range of values for (F-R)/(F+R)\n",
    "x_range = np.linspace(x.min(), x.max(), 100)\n",
    "\n",
    "# Evaluate the second order polynomial equation for each value in the range\n",
    "y_range = p[0]*x_range**2 + p[1]*x_range + p[2]\n",
    "\n",
    "# Create a subplot with one row and two columns\n",
    "fig, axs = plt.subplots(1, 2, figsize=(10, 4))\n",
    "\n",
    "# Plot the first graph in the first column\n",
    "axs[0].plot(x_range, y_range, label='Second Order Polynomial')\n",
    "axs[0].scatter(x, y, color='red', label='Data Points')\n",
    "axs[0].set_xlabel('(F-R)/(F+R)')\n",
    "axs[0].set_ylabel('Time')\n",
    "axs[0].legend()\n",
    "\n",
    "# Create the second plot\n",
    "x = df_calc['reversed_ratios']\n",
    "y = df_calc['Time']\n",
    "\n",
    "# Fit the curve to the data using numpy.polyfit\n",
    "p = np.polyfit(x, y, 2)\n",
    "\n",
    "# Define a range of values for (F-R)/(F+R)\n",
    "x_range = np.linspace(x.min(), x.max(), 100)\n",
    "\n",
    "# Evaluate the second order polynomial equation for each value in the range\n",
    "y_range = p[0]*x_range**2 + p[1]*x_range + p[2]\n",
    "\n",
    "# Plot the curve and the data points in the second column\n",
    "axs[1].plot(x_range, y_range, label='Second Order Polynomial')\n",
    "axs[1].scatter(x, y, color='red', label='Data Points')\n",
    "axs[1].set_xlabel('Reversed Ratios')\n",
    "axs[1].set_ylabel('Time')\n",
    "axs[1].legend()\n",
    "\n",
    "# Show the plot\n",
    "plt.tight_layout()\n",
    "plt.show()\n"
   ]
  },
  {
   "cell_type": "code",
   "execution_count": 24,
   "metadata": {},
   "outputs": [
    {
     "data": {
      "image/png": "[encoded data removed]",
      "text/plain": [
       "<Figure size 640x480 with 1 Axes>"
      ]
     },
     "metadata": {},
     "output_type": "display_data"
    }
   ],
   "source": [
    "# Graph both equations on the same set of axes\n",
    "x1 = df_calc['(F-R)/(F+R)']\n",
    "y1 = df_calc['Time']\n",
    "\n",
    "# Fit the curve to the data using numpy.polyfit\n",
    "p1 = np.polyfit(x1, y1, 2)\n",
    "\n",
    "# Define a range of values for (F-R)/(F+R)\n",
    "x1_range = np.linspace(x1.min(), x1.max(), 100)\n",
    "\n",
    "# Evaluate the second order polynomial equation for each value in the range\n",
    "y1_range = p1[0]*x1_range**2 + p1[1]*x1_range + p1[2]\n",
    "\n",
    "# Create the first plot\n",
    "plt.plot(x1_range, y1_range, label='(F-R)/(F+R)')\n",
    "plt.scatter(x1, y1, color='red')\n",
    "\n",
    "# Create the second plot\n",
    "x2 = df_calc['reversed_ratios']\n",
    "y2 = df_calc['Time']\n",
    "\n",
    "# Fit the curve to the data using numpy.polyfit\n",
    "p2 = np.polyfit(x2, y2, 2)\n",
    "\n",
    "# Define a range of values for reversed_ratios\n",
    "x2_range = np.linspace(x2.min(), x2.max(), 100)\n",
    "\n",
    "# Evaluate the second order polynomial equation for each value in the range\n",
    "y2_range = p2[0]*x2_range**2 + p2[1]*x2_range + p2[2]\n",
    "\n",
    "# Plot the second set of data on the same set of axes\n",
    "plt.plot(x2_range, y2_range, label='Reversed Ratios')\n",
    "plt.scatter(x2, y2, color='blue')\n",
    "\n",
    "# Add a title to the plot\n",
    "plt.title('Combined Graph')\n",
    "\n",
    "# Add x and y axis labels\n",
    "plt.xlabel('Value')\n",
    "plt.ylabel('Time')\n",
    "\n",
    "# Add a legend to the plot\n",
    "plt.legend()\n",
    "\n",
    "# Show the plot\n",
    "plt.show()\n"
   ]
  },
  {
   "attachments": {},
   "cell_type": "markdown",
   "metadata": {},
   "source": [
    "# Summary of Equation"
   ]
  },
  {
   "attachments": {},
   "cell_type": "markdown",
   "metadata": {},
   "source": [
    "### To convert the ul amount to time:\n",
    "y = 13.94674 * x + -0.79141 * x^2 + -2.43169\\\n",
    "y = solenoid open time, x = ul\n",
    "\n",
    "### To convert time to ul amount:\n",
    "y = -0.15112 * x + 0.00388 * x^2 + 3.44460\\\n",
    "y = ul amount, x = solenoid open time\n",
    "\n",
    "### Equation #1 (Pull Equation)\n",
    "Solenoid Open Time = -7.83 * (F-R)/(F+R)**2 + 18.44 * (F-R)/(F+R) + 48.28\n",
    "\n",
    "### Equation #2 (Push Equation)\n",
    "The equation is Time = -7.83 * (F-R)/(F+R)**2 + -18.44 * (F-R)/(F+R) + 48.28"
   ]
  },
  {
   "attachments": {},
   "cell_type": "markdown",
   "metadata": {},
   "source": [
    "\n"
   ]
  }
 ],
 "metadata": {
  "kernelspec": {
   "display_name": "base",
   "language": "python",
   "name": "python3"
  },
  "language_info": {
   "codemirror_mode": {
    "name": "ipython",
    "version": 3
   },
   "file_extension": ".py",
   "mimetype": "text/x-python",
   "name": "python",
   "nbconvert_exporter": "python",
   "pygments_lexer": "ipython3",
   "version": "3.9.13"
  },
  "orig_nbformat": 4
 },
 "nbformat": 4,
 "nbformat_minor": 2
}
